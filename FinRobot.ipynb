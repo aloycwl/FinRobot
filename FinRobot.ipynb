{
  "nbformat": 4,
  "nbformat_minor": 0,
  "metadata": {
    "colab": {
      "provenance": [],
      "collapsed_sections": [
        "4IYwmpXoAbew",
        "ZYowLnwoAkVP",
        "bfszciblAoNn",
        "VC3XA3gIAsVw",
        "eQ0Cic8kAvVy",
        "4GA-eZM_AyhJ",
        "pay6Kt6QA0yB",
        "sZwWDxrgA8H9"
      ],
      "authorship_tag": "ABX9TyMdE8IhE3U72y23MFfhP4YK",
      "include_colab_link": true
    },
    "kernelspec": {
      "name": "python3",
      "display_name": "Python 3"
    },
    "language_info": {
      "name": "python"
    }
  },
  "cells": [
    {
      "cell_type": "markdown",
      "metadata": {
        "id": "view-in-github",
        "colab_type": "text"
      },
      "source": [
        "<a href=\"https://colab.research.google.com/github/aloycwl/FinRobot/blob/main/FinRobot.ipynb\" target=\"_parent\"><img src=\"https://colab.research.google.com/assets/colab-badge.svg\" alt=\"Open In Colab\"/></a>"
      ]
    },
    {
      "cell_type": "markdown",
      "source": [
        "# Task 1: install dependencies"
      ],
      "metadata": {
        "id": "4IYwmpXoAbew"
      }
    },
    {
      "cell_type": "code",
      "source": [
        "# !pip install pandas numpy matplotlib scikit-learn tensorflow plotly --quiet\n",
        "import numpy as np\n",
        "import matplotlib.pyplot as plt\n",
        "from sklearn.preprocessing import MinMaxScaler\n",
        "from tensorflow.keras.models import Sequential\n",
        "from tensorflow.keras.layers import LSTM, Dense, Dropout\n",
        "from tensorflow.keras.callbacks import EarlyStopping\n",
        "\n",
        "from datetime import datetime as d\n",
        "from plotly.subplots import make_subplots as m\n",
        "from openai import OpenAI as o\n",
        "import plotly.graph_objects as g\n",
        "import pandas as p\n",
        "import requests as r\n",
        "\n",
        "p.set_option('display.max_rows', None)\n",
        "p.set_option('display.max_columns', None)\n",
        "p.set_option('display.width', None)\n",
        "p.set_option('display.max_colwidth', None)"
      ],
      "metadata": {
        "collapsed": true,
        "id": "sf1joEybtY0H"
      },
      "execution_count": 182,
      "outputs": []
    },
    {
      "cell_type": "markdown",
      "source": [
        "# Task 2: fetch time series"
      ],
      "metadata": {
        "id": "ZYowLnwoAkVP"
      }
    },
    {
      "cell_type": "code",
      "execution_count": 146,
      "metadata": {
        "id": "OD-RTYhCrQMz"
      },
      "outputs": [],
      "source": [
        "def ts() -> p.DataFrame:\n",
        "  t = p.DataFrame(r.get(\"https://www.okx.com/api/v5/market/candles\",\n",
        "    params={\"instId\": \"BTC-USDT\", \"bar\": \"5m\", \"limit\": \"300\"}).json()['data'],\n",
        "    columns=[\"timestamp\", \"open\", \"high\", \"low\", \"close\", \"volume\", \"currency_volume\", \"num_trades\", \"unknown\"])\n",
        "  t['date'] = p.to_datetime(t['timestamp'].astype(int), unit='ms').dt.tz_localize('UTC').dt.tz_convert('Asia/Shanghai')\n",
        "  t.set_index('date', inplace=True)\n",
        "  for n in [\"open\", \"high\", \"low\", \"close\", \"volume\"]: t[n] = t[n].astype(float)\n",
        "  t.drop(columns=['unknown'], inplace=True)\n",
        "  return t[[\"open\", \"high\", \"low\", \"close\", \"volume\"]]"
      ]
    },
    {
      "cell_type": "markdown",
      "source": [
        "# Task 3: fetch news"
      ],
      "metadata": {
        "id": "bfszciblAoNn"
      }
    },
    {
      "cell_type": "code",
      "source": [
        "def ne() -> str:\n",
        "  t = r.get(\"https://cryptopanic.com/api/v1/posts/\",\n",
        "    params={\"auth_token\": \"672fbfedfaefad4ffd717ce7f80a1e7c0e7a0b90\", \"currencies\": \"BTC,ETH\"}).json()\n",
        "  n = [f\"{d.fromisoformat(ne['created_at']).strftime('%y-%m-%d %H:%M')} {ne['title']}\"\n",
        "    for ne in t.get(\"results\", [])]\n",
        "  return \"\\n\".join(n)"
      ],
      "metadata": {
        "id": "YdvcwtdpvOA9"
      },
      "execution_count": null,
      "outputs": []
    },
    {
      "cell_type": "markdown",
      "source": [
        "# Task 4: fetch market depth"
      ],
      "metadata": {
        "id": "VC3XA3gIAsVw"
      }
    },
    {
      "cell_type": "code",
      "source": [
        "def ma() -> str:\n",
        "  t = r.get(\"https://www.okx.com/api/v5/market/books\", params={\"instId\": \"BTC-USDT\", \"sz\": \"50\"}).json()['data'][0]\n",
        "  n = \"Bids:\\n\"\n",
        "  for price, qty, *others in t['bids']: n += f\"Price: {price}  Quantity: {qty}\\n\"\n",
        "  n += \"\\nAsks:\\n\"\n",
        "  for price, qty, *others in t['asks']: n += f\"Price: {price}  Quantity: {qty}\\n\"\n",
        "  return n"
      ],
      "metadata": {
        "id": "0s9TMJfGypir"
      },
      "execution_count": null,
      "outputs": []
    },
    {
      "cell_type": "markdown",
      "source": [
        "# Task 5: fetch market sentiment"
      ],
      "metadata": {
        "id": "eQ0Cic8kAvVy"
      }
    },
    {
      "cell_type": "code",
      "source": [
        "def se() -> str:\n",
        "  t = r.get(\"https://api.alternative.me/fng/?limit=10&date_format=us\").json()\n",
        "  n = \"date,fng_value,fng_classification\\n\"\n",
        "  for i in t['data']: n += f\"{i['timestamp']},{i['value']},{i['value_classification']}\\n\"\n",
        "  return n"
      ],
      "metadata": {
        "id": "-wOkiGGwzR6y"
      },
      "execution_count": null,
      "outputs": []
    },
    {
      "cell_type": "markdown",
      "source": [
        "# Task 6: prepare the model"
      ],
      "metadata": {
        "id": "4GA-eZM_AyhJ"
      }
    },
    {
      "cell_type": "code",
      "metadata": {
        "id": "c4337185"
      },
      "source": [
        "def md(s, u) -> str:\n",
        "  return o(base_url=\"https://integrate.api.nvidia.com/v1\",\n",
        "    api_key='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').chat.completions.create(\n",
        "    model='qwen/qwen3-235b-a22b',\n",
        "    messages=[{\"role\": \"system\", \"content\": s}, {\"role\": \"user\", \"content\": u}],\n",
        "    temperature=0.2,\n",
        "    top_p=0.7,\n",
        "    max_tokens=8192,\n",
        "    extra_body={\"chat_template_kwargs\": {\"thinking\": False}},\n",
        "    stream=False).choices[0].message.content"
      ],
      "execution_count": 97,
      "outputs": []
    },
    {
      "cell_type": "markdown",
      "source": [
        "# Task 7: predict"
      ],
      "metadata": {
        "id": "pay6Kt6QA0yB"
      }
    },
    {
      "cell_type": "code",
      "source": [
        "t = \"You are a master FX strategist and market analyst with deep knowledge of global macroeconomics, technical analysis, and risk management. Provide a concise trading plan based on the user's input, without offering detailed explanations.\"\n",
        "\n",
        "n = f\"\"\"Analyze the following OHLC market price data,\n",
        "formulate RSI, EMA, MACD, Bollinger Bands, Stochastic, ATR, Parabolic, Harmonics, Fibonacci, Gann,\n",
        "and another other indicators that could be useful for prediction.\n",
        "Together with the following news, market depth and market sentiment to give me real-time trading plan for the next 3 hours:\n",
        "\n",
        "*Time Series*\\n{ts().head(100)}\n",
        "\n",
        "*Latest News*\\n{ne()}\n",
        "\n",
        "*Market Depth*\\n{ma()}\n",
        "\n",
        "*Market Sentiment*\\n{se()}\n",
        "\n",
        "Provide *only* the real-time trading plan for the next 3 hours, with no additional explanations or introductory text.\n",
        "\"\"\"\n",
        "\n",
        "print(md(t, n))"
      ],
      "metadata": {
        "id": "h4ORxc6z5gr_"
      },
      "execution_count": null,
      "outputs": []
    },
    {
      "cell_type": "markdown",
      "source": [
        "# Task 8: display prompt with all data"
      ],
      "metadata": {
        "id": "sZwWDxrgA8H9"
      }
    },
    {
      "cell_type": "code",
      "source": [
        "print(t)"
      ],
      "metadata": {
        "id": "tWmmu0jYA765"
      },
      "execution_count": null,
      "outputs": []
    },
    {
      "cell_type": "markdown",
      "source": [
        "# Task 9: plot charts"
      ],
      "metadata": {
        "id": "H464n9i5A3EX"
      }
    },
    {
      "cell_type": "code",
      "metadata": {
        "id": "4e377661"
      },
      "source": [
        "def rsi(s):\n",
        "    n = s.diff()\n",
        "    return 100 - (100 / (1 + (n.where(n > 0, 0)).rolling(window=14).mean() / (-n.where(n < 0, 0)).rolling(window=14).mean()))\n",
        "\n",
        "t = ts()\n",
        "t['EMA_200'] = t['close'].ewm(span=200, adjust=False).mean()\n",
        "t['EMA_50'] = t['close'].ewm(span=50, adjust=False).mean()\n",
        "t['SMA_20'] = t['close'].rolling(window=20).mean()\n",
        "t['STD_20'] = t['close'].rolling(window=20).std()\n",
        "t['Upper_Band'] = t['SMA_20'] + (t['STD_20'] * 2)\n",
        "t['Lower_Band'] = t['SMA_20'] - (t['STD_20'] * 2)\n",
        "t['Middle_Band'] = t['SMA_20']\n",
        "t['RSI_14'] = rsi(t['close'])\n",
        "t['MACD'] = t['close'].ewm(span=12, adjust=False).mean() - t['close'].ewm(span=26, adjust=False).mean()\n",
        "t['Signal_Line'] = t['MACD'].ewm(span=9, adjust=False).mean()\n",
        "t['MACD_Histogram'] = t['MACD'] - t['Signal_Line']\n",
        "t['Volume_SMA_20'] = t['volume'].rolling(window=20).mean()\n",
        "n = t['low'].rolling(window=14).min()\n",
        "t['%K'] = 100 * ((t['close'] - n) / (t['high'].rolling(window=14).max() - n))\n",
        "t['%D'] = t['%K'].rolling(window=3).mean()\n",
        "\n",
        "f = g.Figure(data=[g.Candlestick(x=t.index, open=t['open'], high=t['high'], low=t['low'], close=t['close'])])\n",
        "f.add_trace(g.Scatter(x=t.index, y=t['EMA_200'], mode='lines', name='EMA 200'))\n",
        "f.add_trace(g.Scatter(x=t.index, y=t['EMA_50'], mode='lines', name='EMA 50'))\n",
        "f.add_trace(g.Scatter(x=t.index, y=t['Upper_Band'], mode='lines', name='Upper Band', line=dict(color='orange', dash='dash')))\n",
        "f.add_trace(g.Scatter(x=t.index, y=t['Middle_Band'], mode='lines', name='Middle Band', line=dict(color='orange')))\n",
        "f.add_trace(g.Scatter(x=t.index, y=t['Lower_Band'], mode='lines', name='Lower Band', line=dict(color='orange', dash='dash')))\n",
        "f.update_layout(title='BTCUSD', xaxis_title='Date', yaxis_title='Price', xaxis_rangeslider_visible=False)\n",
        "f.show()\n",
        "f = m(rows=4, cols=1, shared_xaxes=True, vertical_spacing=0.1, subplot_titles=('RSI (14)', 'MACD', 'Volume', 'Stochastic Oscillator'), row_heights=[0.25, 0.25, 0.25, 0.25])\n",
        "f.add_trace(g.Scatter(x=t.index, y=t['RSI_14'], mode='lines', name='RSI (14)'), row=1, col=1)\n",
        "f.add_shape(type='line', x0=t.index.min(), x1=t.index.max(), y0=70, y1=70,line=dict(color='Red', dash='dash'), row=1, col=1)\n",
        "f.add_shape(type='line', x0=t.index.min(), x1=t.index.max(), y0=30, y1=30, line=dict(color='Green', dash='dash'), row=1, col=1)\n",
        "f.add_trace(g.Scatter(x=t.index, y=t['MACD'], mode='lines', name='MACD Line', line=dict(color='blue')), row=2, col=1)\n",
        "f.add_trace(g.Scatter(x=t.index, y=t['Signal_Line'], mode='lines', name='Signal Line', line=dict(color='red')), row=2, col=1)\n",
        "f.add_trace(g.Bar(x=t.index, y=t['MACD_Histogram'], name='Histogram', marker=dict(color='grey')), row=2, col=1)\n",
        "f.add_trace(g.Bar(x=t.index, y=t['volume'], name='Volume', marker=dict(color='blue', opacity=0.5)), row=3, col=1)\n",
        "f.add_trace(g.Scatter(x=t.index, y=t['Volume_SMA_20'], mode='lines', name='Volume SMA (20)', line=dict(color='red')), row=3, col=1)\n",
        "f.add_trace(g.Scatter(x=t.index, y=t['%K'], mode='lines', name='%K Line', line=dict(color='blue')), row=4, col=1)\n",
        "f.add_trace(g.Scatter(x=t.index, y=t['%D'], mode='lines', name='%D Line', line=dict(color='red')), row=4, col=1)\n",
        "f.add_shape(type='line', x0=t.index.min(), x1=t.index.max(), y0=80, y1=80, line=dict(color='Red', dash='dash'), row=4, col=1)\n",
        "f.add_shape(type='line', x0=t.index.min(), x1=t.index.max(), y0=20, y1=20, line=dict(color='Green', dash='dash'), row=4, col=1)\n",
        "f.update_layout(title_text='Additions')\n",
        "f.show()"
      ],
      "execution_count": null,
      "outputs": []
    },
    {
      "cell_type": "markdown",
      "metadata": {
        "id": "d2f9360c"
      },
      "source": [
        "# Task 10: Price Prediction using LSTM"
      ]
    },
    {
      "cell_type": "code",
      "metadata": {
        "id": "0b921ab2"
      },
      "source": [
        "f = t[['close', 'volume', 'EMA_200', 'EMA_50', 'RSI_14', 'SMA_20', 'STD_20', 'Upper_Band', 'Lower_Band',\n",
        "  'Middle_Band', 'RSI_14', 'MACD', 'Signal_Line', 'MACD_Histogram', 'Volume_SMA_20']]\n",
        "f = f.dropna()\n",
        "scaler = MinMaxScaler()\n",
        "scaled_features = scaler.fit_transform(f)\n",
        "\n",
        "# ✅ STEP 6: Create LSTM Sequences\n",
        "sequence_length = 60\n",
        "X, y = [], []\n",
        "for i in range(sequence_length, len(scaled_features)):\n",
        "    X.append(scaled_features[i-sequence_length:i])\n",
        "    y.append(scaled_features[i, 0])\n",
        "X = np.array(X)\n",
        "y = np.array(y)\n",
        "\n",
        "# ✅ STEP 7: Build and Train the LSTM Model\n",
        "model = Sequential()\n",
        "model.add(LSTM(64, return_sequences=True, input_shape=(X.shape[1], X.shape[2])))\n",
        "model.add(Dropout(0.2))\n",
        "model.add(LSTM(64))\n",
        "model.add(Dropout(0.2))\n",
        "model.add(Dense(1))\n",
        "model.compile(optimizer='adam', loss='mean_squared_error')\n",
        "e = EarlyStopping(monitor='val_loss', patience=5, restore_best_weights=True)\n",
        "model.fit(X, y, epochs=50, batch_size=32, validation_split=0.1, callbacks=[e])\n",
        "\n",
        "# ✅ STEP 8: Make Historical Predictions\n",
        "predicted = model.predict(X)\n",
        "predicted_prices = scaler.inverse_transform(np.hstack((predicted, np.zeros((predicted.shape[0], features.shape[1] - 1)))))[:, 0]\n",
        "actual_prices = scaler.inverse_transform(np.hstack((y.reshape(-1, 1), np.zeros((len(y), features.shape[1] - 1)))))[:, 0]\n",
        "\n",
        "# ✅ STEP 9: Plot Historical Prediction vs Actual\n",
        "plt.figure(figsize=(14, 6))\n",
        "plt.plot(actual_prices, label='Actual Price')\n",
        "plt.plot(predicted_prices, label='Predicted Price')\n",
        "plt.title('BTC-USDT Close Price Prediction (Historical)')\n",
        "plt.xlabel('Time Step')\n",
        "plt.ylabel('Price')\n",
        "plt.legend()\n",
        "plt.grid()\n",
        "plt.show()\n",
        "\n",
        "# ✅ STEP 10: Predict the NEXT Close Price (1 step ahead)\n",
        "next_pred = scaler.inverse_transform(np.hstack((model.predict(np.expand_dims(scaled_features[-60:], axis=0)), np.zeros((1, features.shape[1] - 1)))))[0, 0]\n",
        "print(f\"📈 Predicted next close price: {next_pred:.2f} USDT\")\n",
        "\n",
        "# ✅ STEP 11: Predict Next 5 Future Prices (Recursive Forecasting)\n",
        "future_predictions = []\n",
        "last_seq = scaled_features[-60:]\n",
        "for _ in range(5):\n",
        "    next_scaled = model.predict(np.expand_dims(last_seq, axis=0))[0]\n",
        "    next_price = scaler.inverse_transform([np.hstack((next_scaled, np.zeros(features.shape[1] - 1)))])[0, 0]\n",
        "    future_predictions.append(next_price)\n",
        "    last_seq = np.vstack((last_seq[1:], np.hstack((next_scaled, last_seq[-1, 1:]))))\n",
        "\n",
        "print(\"Predicted next 5 close prices:\", [float(x) for x in future_predictions])\n"
      ],
      "execution_count": null,
      "outputs": []
    }
  ]
}